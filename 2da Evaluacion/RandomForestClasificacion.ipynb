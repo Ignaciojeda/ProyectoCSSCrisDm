{
  "nbformat": 4,
  "nbformat_minor": 0,
  "metadata": {
    "colab": {
      "provenance": [],
      "include_colab_link": true
    },
    "kernelspec": {
      "name": "python3",
      "display_name": "Python 3"
    },
    "language_info": {
      "name": "python"
    }
  },
  "cells": [
    {
      "cell_type": "markdown",
      "metadata": {
        "id": "view-in-github",
        "colab_type": "text"
      },
      "source": [
        "<a href=\"https://colab.research.google.com/github/Ignaciojeda/ProyectoCSSCrisDm/blob/main/RandomForestClasificacion.ipynb\" target=\"_parent\"><img src=\"https://colab.research.google.com/assets/colab-badge.svg\" alt=\"Open In Colab\"/></a>"
      ]
    },
    {
      "cell_type": "markdown",
      "source": [
        "# Importación de librerias"
      ],
      "metadata": {
        "id": "Syo6pnW2lvCo"
      }
    },
    {
      "cell_type": "code",
      "execution_count": null,
      "metadata": {
        "id": "La7FTTPkXABN"
      },
      "outputs": [],
      "source": [
        "### 📚 Importación de librerías\n",
        "\n",
        "# Librerías generales\n",
        "import pandas as pd\n",
        "import numpy as np\n",
        "\n",
        "# Visualización\n",
        "import matplotlib.pyplot as plt\n",
        "import seaborn as sns\n",
        "\n",
        "# Modelado y evaluación\n",
        "from sklearn.model_selection import train_test_split\n",
        "from sklearn.ensemble import RandomForestClassifier\n",
        "from sklearn.preprocessing import LabelEncoder\n",
        "from sklearn.metrics import confusion_matrix, classification_report, roc_auc_score\n"
      ]
    },
    {
      "cell_type": "markdown",
      "source": [
        "# Importación del dataset"
      ],
      "metadata": {
        "id": "Igzt8Ju9l0so"
      }
    },
    {
      "cell_type": "code",
      "source": [
        "from google.colab import drive\n",
        "drive.mount('/content/drive')\n",
        "\n",
        "url = '/content/drive/MyDrive/TG_Machine_Learning/datos_datacss.csv'\n",
        "# Cargar los datos\n",
        "try:\n",
        "    data = pd.read_csv(url, sep=\",\", encoding='latin-1', low_memory=False)\n",
        "    print(\"Datos cargados exitosamente!\")\n",
        "except Exception as e:\n",
        "    print(f\"Error al cargar los datos: {e}\")"
      ],
      "metadata": {
        "colab": {
          "base_uri": "https://localhost:8080/"
        },
        "id": "7Y3GGiB_l86E",
        "outputId": "5a171190-6582-4b9f-a15c-cd1bf0ce0d23"
      },
      "execution_count": null,
      "outputs": [
        {
          "output_type": "stream",
          "name": "stdout",
          "text": [
            "Mounted at /content/drive\n",
            "Error al cargar los datos: name 'pd' is not defined\n"
          ]
        }
      ]
    },
    {
      "cell_type": "markdown",
      "source": [
        "# Análisis inicial de datos"
      ],
      "metadata": {
        "id": "U6yk5TO8mDj3"
      }
    },
    {
      "cell_type": "markdown",
      "source": [
        "# Análisis de la variable objetivo: Survived"
      ],
      "metadata": {
        "id": "pbJmYnWxoIMS"
      }
    },
    {
      "cell_type": "code",
      "source": [],
      "metadata": {
        "id": "Cqtn1VzQ5akP"
      },
      "execution_count": null,
      "outputs": []
    },
    {
      "cell_type": "code",
      "source": [
        "print(\"Distribución de la variable objetivo (¿Sobrevive el jugador?):\")\n",
        "print(data['Survived'].value_counts())\n",
        "sns.countplot(x='Survived', data=data)\n",
        "plt.title(\"Distribución de Supervivencia por Jugador\")\n",
        "plt.show()\n"
      ],
      "metadata": {
        "colab": {
          "base_uri": "https://localhost:8080/",
          "height": 559
        },
        "id": "x_x56CKCoGUi",
        "outputId": "337b33e3-f9fb-4c38-d624-6ea61f441bac"
      },
      "execution_count": null,
      "outputs": [
        {
          "output_type": "stream",
          "name": "stdout",
          "text": [
            "Distribución de la variable objetivo (¿Sobrevive el jugador?):\n",
            "Survived\n",
            "False    47214\n",
            "True     31943\n",
            "Name: count, dtype: int64\n"
          ]
        },
        {
          "output_type": "display_data",
          "data": {
            "text/plain": [
              "<Figure size 640x480 with 1 Axes>"
            ],
            "image/png": "[encoded data removed]"
          },
          "metadata": {}
        }
      ]
    },
    {
      "cell_type": "markdown",
      "source": [
        "# Preparación del dataset de clasificación"
      ],
      "metadata": {
        "id": "OIqdnQz7ku1-"
      }
    },
    {
      "cell_type": "code",
      "source": [
        "columnas_usadas = ['Survived', 'RoundWinner', 'Team', 'Map', 'RoundStartingEquipmentValue']\n",
        "df = data[columnas_usadas].dropna().copy()\n",
        "\n",
        "# Codificación de variables categóricas\n",
        "le_team = LabelEncoder()\n",
        "le_map = LabelEncoder()\n",
        "le_winner = LabelEncoder()\n",
        "\n",
        "df['Team'] = le_team.fit_transform(df['Team'])\n",
        "df['Map'] = le_map.fit_transform(df['Map'])\n",
        "df['RoundWinner'] = le_winner.fit_transform(df['RoundWinner'])"
      ],
      "metadata": {
        "id": "vKmx38xvkwRO"
      },
      "execution_count": null,
      "outputs": []
    },
    {
      "cell_type": "markdown",
      "source": [
        "# Definición de variables predictoras y objetivo"
      ],
      "metadata": {
        "id": "g8ooBVuOkz1T"
      }
    },
    {
      "cell_type": "code",
      "source": [
        "y = df['Survived']\n",
        "X = df.drop('Survived', axis=1)"
      ],
      "metadata": {
        "id": "H72JYh_Ck1z_"
      },
      "execution_count": null,
      "outputs": []
    },
    {
      "cell_type": "markdown",
      "source": [
        "# División del conjunto de datos"
      ],
      "metadata": {
        "id": "jmpRqgKqk4Q7"
      }
    },
    {
      "cell_type": "code",
      "source": [
        "X_train, X_test, y_train, y_test = train_test_split(X, y, train_size=0.7, random_state=42)\n",
        "\n",
        "print(f\"Tamaño del conjunto de entrenamiento: {X_train.shape}\")\n",
        "print(f\"Tamaño del conjunto de prueba: {X_test.shape}\")"
      ],
      "metadata": {
        "colab": {
          "base_uri": "https://localhost:8080/"
        },
        "id": "LLyw-flFk5qD",
        "outputId": "3c9185e1-6622-4bae-eb37-5e1d791f160e"
      },
      "execution_count": null,
      "outputs": [
        {
          "output_type": "stream",
          "name": "stdout",
          "text": [
            "Tamaño del conjunto de entrenamiento: (55409, 4)\n",
            "Tamaño del conjunto de prueba: (23748, 4)\n"
          ]
        }
      ]
    },
    {
      "cell_type": "markdown",
      "source": [
        "# Entrenamiento del modelo Random Forest (500 árboles)"
      ],
      "metadata": {
        "id": "Ug3T_8Svk7py"
      }
    },
    {
      "cell_type": "code",
      "source": [
        "model_rf = RandomForestClassifier(n_estimators=500,\n",
        "                                   max_features='sqrt',\n",
        "                                   class_weight='balanced',\n",
        "                                   random_state=42,\n",
        "                                   verbose=2)\n",
        "model_rf.fit(X_train, y_train)"
      ],
      "metadata": {
        "colab": {
          "base_uri": "https://localhost:8080/",
          "height": 1000
        },
        "id": "LtjIwPdMk-TC",
        "outputId": "242edd9c-a302-4182-c234-9c607a5173c3"
      },
      "execution_count": null,
      "outputs": [
        {
          "output_type": "stream",
          "name": "stdout",
          "text": [
            "building tree 1 of 500\n",
            "building tree 2 of 500\n",
            "building tree 3 of 500\n",
            "building tree 4 of 500\n",
            "building tree 5 of 500\n",
            "building tree 6 of 500\n",
            "building tree 7 of 500\n",
            "building tree 8 of 500\n",
            "building tree 9 of 500\n",
            "building tree 10 of 500\n",
            "building tree 11 of 500\n",
            "building tree 12 of 500\n",
            "building tree 13 of 500\n",
            "building tree 14 of 500\n",
            "building tree 15 of 500\n",
            "building tree 16 of 500\n",
            "building tree 17 of 500\n",
            "building tree 18 of 500\n",
            "building tree 19 of 500\n",
            "building tree 20 of 500\n",
            "building tree 21 of 500\n",
            "building tree 22 of 500\n",
            "building tree 23 of 500\n",
            "building tree 24 of 500\n",
            "building tree 25 of 500\n",
            "building tree 26 of 500\n",
            "building tree 27 of 500\n",
            "building tree 28 of 500\n",
            "building tree 29 of 500\n",
            "building tree 30 of 500\n",
            "building tree 31 of 500\n",
            "building tree 32 of 500\n",
            "building tree 33 of 500\n",
            "building tree 34 of 500\n",
            "building tree 35 of 500\n",
            "building tree 36 of 500\n",
            "building tree 37 of 500\n",
            "building tree 38 of 500\n",
            "building tree 39 of 500\n",
            "building tree 40 of 500\n",
            "building tree 41 of 500\n"
          ]
        },
        {
          "output_type": "stream",
          "name": "stderr",
          "text": [
            "[Parallel(n_jobs=1)]: Done  40 tasks      | elapsed:    1.0s\n"
          ]
        },
        {
          "output_type": "stream",
          "name": "stdout",
          "text": [
            "building tree 42 of 500\n",
            "building tree 43 of 500\n",
            "building tree 44 of 500\n",
            "building tree 45 of 500\n",
            "building tree 46 of 500\n",
            "building tree 47 of 500\n",
            "building tree 48 of 500\n",
            "building tree 49 of 500\n",
            "building tree 50 of 500\n",
            "building tree 51 of 500\n",
            "building tree 52 of 500\n",
            "building tree 53 of 500\n",
            "building tree 54 of 500\n",
            "building tree 55 of 500\n",
            "building tree 56 of 500\n",
            "building tree 57 of 500\n",
            "building tree 58 of 500\n",
            "building tree 59 of 500\n",
            "building tree 60 of 500\n",
            "building tree 61 of 500\n",
            "building tree 62 of 500\n",
            "building tree 63 of 500\n",
            "building tree 64 of 500\n",
            "building tree 65 of 500\n",
            "building tree 66 of 500\n",
            "building tree 67 of 500\n",
            "building tree 68 of 500\n",
            "building tree 69 of 500\n",
            "building tree 70 of 500\n",
            "building tree 71 of 500\n",
            "building tree 72 of 500\n",
            "building tree 73 of 500\n",
            "building tree 74 of 500\n",
            "building tree 75 of 500\n",
            "building tree 76 of 500\n",
            "building tree 77 of 500\n",
            "building tree 78 of 500\n",
            "building tree 79 of 500\n",
            "building tree 80 of 500\n",
            "building tree 81 of 500\n",
            "building tree 82 of 500\n",
            "building tree 83 of 500\n",
            "building tree 84 of 500\n",
            "building tree 85 of 500\n",
            "building tree 86 of 500\n",
            "building tree 87 of 500\n",
            "building tree 88 of 500\n",
            "building tree 89 of 500\n",
            "building tree 90 of 500\n",
            "building tree 91 of 500\n",
            "building tree 92 of 500\n",
            "building tree 93 of 500\n",
            "building tree 94 of 500\n",
            "building tree 95 of 500\n",
            "building tree 96 of 500\n",
            "building tree 97 of 500\n",
            "building tree 98 of 500\n",
            "building tree 99 of 500\n",
            "building tree 100 of 500\n",
            "building tree 101 of 500\n",
            "building tree 102 of 500\n",
            "building tree 103 of 500\n",
            "building tree 104 of 500\n",
            "building tree 105 of 500\n",
            "building tree 106 of 500\n",
            "building tree 107 of 500\n",
            "building tree 108 of 500\n",
            "building tree 109 of 500\n",
            "building tree 110 of 500\n",
            "building tree 111 of 500\n",
            "building tree 112 of 500\n",
            "building tree 113 of 500\n",
            "building tree 114 of 500\n",
            "building tree 115 of 500\n",
            "building tree 116 of 500\n",
            "building tree 117 of 500\n",
            "building tree 118 of 500\n",
            "building tree 119 of 500\n",
            "building tree 120 of 500\n",
            "building tree 121 of 500\n",
            "building tree 122 of 500\n",
            "building tree 123 of 500\n",
            "building tree 124 of 500\n",
            "building tree 125 of 500\n",
            "building tree 126 of 500\n",
            "building tree 127 of 500\n",
            "building tree 128 of 500\n",
            "building tree 129 of 500\n",
            "building tree 130 of 500\n",
            "building tree 131 of 500\n",
            "building tree 132 of 500\n",
            "building tree 133 of 500\n",
            "building tree 134 of 500\n",
            "building tree 135 of 500\n",
            "building tree 136 of 500\n",
            "building tree 137 of 500\n",
            "building tree 138 of 500\n",
            "building tree 139 of 500\n",
            "building tree 140 of 500\n",
            "building tree 141 of 500\n",
            "building tree 142 of 500\n",
            "building tree 143 of 500\n",
            "building tree 144 of 500\n",
            "building tree 145 of 500\n",
            "building tree 146 of 500\n",
            "building tree 147 of 500\n",
            "building tree 148 of 500\n",
            "building tree 149 of 500\n",
            "building tree 150 of 500\n",
            "building tree 151 of 500\n",
            "building tree 152 of 500\n",
            "building tree 153 of 500\n",
            "building tree 154 of 500\n",
            "building tree 155 of 500\n",
            "building tree 156 of 500\n",
            "building tree 157 of 500\n",
            "building tree 158 of 500\n",
            "building tree 159 of 500\n",
            "building tree 160 of 500\n",
            "building tree 161 of 500\n",
            "building tree 162 of 500\n",
            "building tree 163 of 500\n",
            "building tree 164 of 500\n",
            "building tree 165 of 500\n",
            "building tree 166 of 500\n",
            "building tree 167 of 500\n",
            "building tree 168 of 500\n"
          ]
        },
        {
          "output_type": "stream",
          "name": "stderr",
          "text": [
            "[Parallel(n_jobs=1)]: Done 161 tasks      | elapsed:    4.4s\n"
          ]
        },
        {
          "output_type": "stream",
          "name": "stdout",
          "text": [
            "building tree 169 of 500\n",
            "building tree 170 of 500\n",
            "building tree 171 of 500\n",
            "building tree 172 of 500\n",
            "building tree 173 of 500\n",
            "building tree 174 of 500\n",
            "building tree 175 of 500\n",
            "building tree 176 of 500\n",
            "building tree 177 of 500\n",
            "building tree 178 of 500\n",
            "building tree 179 of 500\n",
            "building tree 180 of 500\n",
            "building tree 181 of 500\n",
            "building tree 182 of 500\n",
            "building tree 183 of 500\n",
            "building tree 184 of 500\n",
            "building tree 185 of 500\n",
            "building tree 186 of 500\n",
            "building tree 187 of 500\n",
            "building tree 188 of 500\n",
            "building tree 189 of 500\n",
            "building tree 190 of 500\n",
            "building tree 191 of 500\n",
            "building tree 192 of 500\n",
            "building tree 193 of 500\n",
            "building tree 194 of 500\n",
            "building tree 195 of 500\n",
            "building tree 196 of 500\n",
            "building tree 197 of 500\n",
            "building tree 198 of 500\n",
            "building tree 199 of 500\n",
            "building tree 200 of 500\n",
            "building tree 201 of 500\n",
            "building tree 202 of 500\n",
            "building tree 203 of 500\n",
            "building tree 204 of 500\n",
            "building tree 205 of 500\n",
            "building tree 206 of 500\n",
            "building tree 207 of 500\n",
            "building tree 208 of 500\n",
            "building tree 209 of 500\n",
            "building tree 210 of 500\n",
            "building tree 211 of 500\n",
            "building tree 212 of 500\n",
            "building tree 213 of 500\n",
            "building tree 214 of 500\n",
            "building tree 215 of 500\n",
            "building tree 216 of 500\n",
            "building tree 217 of 500\n",
            "building tree 218 of 500\n",
            "building tree 219 of 500\n",
            "building tree 220 of 500\n",
            "building tree 221 of 500\n",
            "building tree 222 of 500\n",
            "building tree 223 of 500\n",
            "building tree 224 of 500\n",
            "building tree 225 of 500\n",
            "building tree 226 of 500\n",
            "building tree 227 of 500\n",
            "building tree 228 of 500\n",
            "building tree 229 of 500\n",
            "building tree 230 of 500\n",
            "building tree 231 of 500\n",
            "building tree 232 of 500\n",
            "building tree 233 of 500\n",
            "building tree 234 of 500\n",
            "building tree 235 of 500\n",
            "building tree 236 of 500\n",
            "building tree 237 of 500\n",
            "building tree 238 of 500\n",
            "building tree 239 of 500\n",
            "building tree 240 of 500\n",
            "building tree 241 of 500\n",
            "building tree 242 of 500\n",
            "building tree 243 of 500\n",
            "building tree 244 of 500\n",
            "building tree 245 of 500\n",
            "building tree 246 of 500\n",
            "building tree 247 of 500\n",
            "building tree 248 of 500\n",
            "building tree 249 of 500\n",
            "building tree 250 of 500\n",
            "building tree 251 of 500\n",
            "building tree 252 of 500\n",
            "building tree 253 of 500\n",
            "building tree 254 of 500\n",
            "building tree 255 of 500\n",
            "building tree 256 of 500\n",
            "building tree 257 of 500\n",
            "building tree 258 of 500\n",
            "building tree 259 of 500\n",
            "building tree 260 of 500\n",
            "building tree 261 of 500\n",
            "building tree 262 of 500\n",
            "building tree 263 of 500\n",
            "building tree 264 of 500\n",
            "building tree 265 of 500\n",
            "building tree 266 of 500\n",
            "building tree 267 of 500\n",
            "building tree 268 of 500\n",
            "building tree 269 of 500\n",
            "building tree 270 of 500\n",
            "building tree 271 of 500\n",
            "building tree 272 of 500\n",
            "building tree 273 of 500\n",
            "building tree 274 of 500\n",
            "building tree 275 of 500\n",
            "building tree 276 of 500\n",
            "building tree 277 of 500\n",
            "building tree 278 of 500\n",
            "building tree 279 of 500\n",
            "building tree 280 of 500\n",
            "building tree 281 of 500\n",
            "building tree 282 of 500\n",
            "building tree 283 of 500\n",
            "building tree 284 of 500\n",
            "building tree 285 of 500\n",
            "building tree 286 of 500\n",
            "building tree 287 of 500\n",
            "building tree 288 of 500\n",
            "building tree 289 of 500\n",
            "building tree 290 of 500\n",
            "building tree 291 of 500\n",
            "building tree 292 of 500\n",
            "building tree 293 of 500\n",
            "building tree 294 of 500\n",
            "building tree 295 of 500\n",
            "building tree 296 of 500\n",
            "building tree 297 of 500\n",
            "building tree 298 of 500\n",
            "building tree 299 of 500\n",
            "building tree 300 of 500\n",
            "building tree 301 of 500\n",
            "building tree 302 of 500\n",
            "building tree 303 of 500\n",
            "building tree 304 of 500\n",
            "building tree 305 of 500\n",
            "building tree 306 of 500\n",
            "building tree 307 of 500\n",
            "building tree 308 of 500\n",
            "building tree 309 of 500\n",
            "building tree 310 of 500\n",
            "building tree 311 of 500\n",
            "building tree 312 of 500\n",
            "building tree 313 of 500\n",
            "building tree 314 of 500\n",
            "building tree 315 of 500\n",
            "building tree 316 of 500\n",
            "building tree 317 of 500\n",
            "building tree 318 of 500\n",
            "building tree 319 of 500\n",
            "building tree 320 of 500\n",
            "building tree 321 of 500\n",
            "building tree 322 of 500\n",
            "building tree 323 of 500\n",
            "building tree 324 of 500\n",
            "building tree 325 of 500\n",
            "building tree 326 of 500\n",
            "building tree 327 of 500\n",
            "building tree 328 of 500\n",
            "building tree 329 of 500\n",
            "building tree 330 of 500\n",
            "building tree 331 of 500\n",
            "building tree 332 of 500\n",
            "building tree 333 of 500\n",
            "building tree 334 of 500\n",
            "building tree 335 of 500\n",
            "building tree 336 of 500\n",
            "building tree 337 of 500\n",
            "building tree 338 of 500\n",
            "building tree 339 of 500\n",
            "building tree 340 of 500\n",
            "building tree 341 of 500\n",
            "building tree 342 of 500\n",
            "building tree 343 of 500\n",
            "building tree 344 of 500\n",
            "building tree 345 of 500\n",
            "building tree 346 of 500\n",
            "building tree 347 of 500\n",
            "building tree 348 of 500\n",
            "building tree 349 of 500\n",
            "building tree 350 of 500\n",
            "building tree 351 of 500\n",
            "building tree 352 of 500\n",
            "building tree 353 of 500\n",
            "building tree 354 of 500\n",
            "building tree 355 of 500\n",
            "building tree 356 of 500\n",
            "building tree 357 of 500\n",
            "building tree 358 of 500\n",
            "building tree 359 of 500\n",
            "building tree 360 of 500\n",
            "building tree 361 of 500\n",
            "building tree 362 of 500\n",
            "building tree 363 of 500\n",
            "building tree 364 of 500\n",
            "building tree 365 of 500\n",
            "building tree 366 of 500\n"
          ]
        },
        {
          "output_type": "stream",
          "name": "stderr",
          "text": [
            "[Parallel(n_jobs=1)]: Done 364 tasks      | elapsed:   10.4s\n"
          ]
        },
        {
          "output_type": "stream",
          "name": "stdout",
          "text": [
            "building tree 367 of 500\n",
            "building tree 368 of 500\n",
            "building tree 369 of 500\n",
            "building tree 370 of 500\n",
            "building tree 371 of 500\n",
            "building tree 372 of 500\n",
            "building tree 373 of 500\n",
            "building tree 374 of 500\n",
            "building tree 375 of 500\n",
            "building tree 376 of 500\n",
            "building tree 377 of 500\n",
            "building tree 378 of 500\n",
            "building tree 379 of 500\n",
            "building tree 380 of 500\n",
            "building tree 381 of 500\n",
            "building tree 382 of 500\n",
            "building tree 383 of 500\n",
            "building tree 384 of 500\n",
            "building tree 385 of 500\n",
            "building tree 386 of 500\n",
            "building tree 387 of 500\n",
            "building tree 388 of 500\n",
            "building tree 389 of 500\n",
            "building tree 390 of 500\n",
            "building tree 391 of 500\n",
            "building tree 392 of 500\n",
            "building tree 393 of 500\n",
            "building tree 394 of 500\n",
            "building tree 395 of 500\n",
            "building tree 396 of 500\n",
            "building tree 397 of 500\n",
            "building tree 398 of 500\n",
            "building tree 399 of 500\n",
            "building tree 400 of 500\n",
            "building tree 401 of 500\n",
            "building tree 402 of 500\n",
            "building tree 403 of 500\n",
            "building tree 404 of 500\n",
            "building tree 405 of 500\n",
            "building tree 406 of 500\n",
            "building tree 407 of 500\n",
            "building tree 408 of 500\n",
            "building tree 409 of 500\n",
            "building tree 410 of 500\n",
            "building tree 411 of 500\n",
            "building tree 412 of 500\n",
            "building tree 413 of 500\n",
            "building tree 414 of 500\n",
            "building tree 415 of 500\n",
            "building tree 416 of 500\n",
            "building tree 417 of 500\n",
            "building tree 418 of 500\n",
            "building tree 419 of 500\n",
            "building tree 420 of 500\n",
            "building tree 421 of 500\n",
            "building tree 422 of 500\n",
            "building tree 423 of 500\n",
            "building tree 424 of 500\n",
            "building tree 425 of 500\n",
            "building tree 426 of 500\n",
            "building tree 427 of 500\n",
            "building tree 428 of 500\n",
            "building tree 429 of 500\n",
            "building tree 430 of 500\n",
            "building tree 431 of 500\n",
            "building tree 432 of 500\n",
            "building tree 433 of 500\n",
            "building tree 434 of 500\n",
            "building tree 435 of 500\n",
            "building tree 436 of 500\n",
            "building tree 437 of 500\n",
            "building tree 438 of 500\n",
            "building tree 439 of 500\n",
            "building tree 440 of 500\n",
            "building tree 441 of 500\n",
            "building tree 442 of 500\n",
            "building tree 443 of 500\n",
            "building tree 444 of 500\n",
            "building tree 445 of 500\n",
            "building tree 446 of 500\n",
            "building tree 447 of 500\n",
            "building tree 448 of 500\n",
            "building tree 449 of 500\n",
            "building tree 450 of 500\n",
            "building tree 451 of 500\n",
            "building tree 452 of 500\n",
            "building tree 453 of 500\n",
            "building tree 454 of 500\n",
            "building tree 455 of 500\n",
            "building tree 456 of 500\n",
            "building tree 457 of 500\n",
            "building tree 458 of 500\n",
            "building tree 459 of 500\n",
            "building tree 460 of 500\n",
            "building tree 461 of 500\n",
            "building tree 462 of 500\n",
            "building tree 463 of 500\n",
            "building tree 464 of 500\n",
            "building tree 465 of 500\n",
            "building tree 466 of 500\n",
            "building tree 467 of 500\n",
            "building tree 468 of 500\n",
            "building tree 469 of 500\n",
            "building tree 470 of 500\n",
            "building tree 471 of 500\n",
            "building tree 472 of 500\n",
            "building tree 473 of 500\n",
            "building tree 474 of 500\n",
            "building tree 475 of 500\n",
            "building tree 476 of 500\n",
            "building tree 477 of 500\n",
            "building tree 478 of 500\n",
            "building tree 479 of 500\n",
            "building tree 480 of 500\n",
            "building tree 481 of 500\n",
            "building tree 482 of 500\n",
            "building tree 483 of 500\n",
            "building tree 484 of 500\n",
            "building tree 485 of 500\n",
            "building tree 486 of 500\n",
            "building tree 487 of 500\n",
            "building tree 488 of 500\n",
            "building tree 489 of 500\n",
            "building tree 490 of 500\n",
            "building tree 491 of 500\n",
            "building tree 492 of 500\n",
            "building tree 493 of 500\n",
            "building tree 494 of 500\n",
            "building tree 495 of 500\n",
            "building tree 496 of 500\n",
            "building tree 497 of 500\n",
            "building tree 498 of 500\n",
            "building tree 499 of 500\n",
            "building tree 500 of 500\n"
          ]
        },
        {
          "output_type": "stream",
          "name": "stderr",
          "text": [
            "[Parallel(n_jobs=1)]: Done 500 out of 500 | elapsed:   15.0s finished\n"
          ]
        },
        {
          "output_type": "execute_result",
          "data": {
            "text/plain": [
              "RandomForestClassifier(class_weight='balanced', n_estimators=500,\n",
              "                       random_state=42, verbose=2)"
            ],
            "text/html": [
              "<style>#sk-container-id-1 {\n",
              "  /* Definition of color scheme common for light and dark mode */\n",
              "  --sklearn-color-text: #000;\n",
              "  --sklearn-color-text-muted: #666;\n",
              "  --sklearn-color-line: gray;\n",
              "  /* Definition of color scheme for unfitted estimators */\n",
              "  --sklearn-color-unfitted-level-0: #fff5e6;\n",
              "  --sklearn-color-unfitted-level-1: #f6e4d2;\n",
              "  --sklearn-color-unfitted-level-2: #ffe0b3;\n",
              "  --sklearn-color-unfitted-level-3: chocolate;\n",
              "  /* Definition of color scheme for fitted estimators */\n",
              "  --sklearn-color-fitted-level-0: #f0f8ff;\n",
              "  --sklearn-color-fitted-level-1: #d4ebff;\n",
              "  --sklearn-color-fitted-level-2: #b3dbfd;\n",
              "  --sklearn-color-fitted-level-3: cornflowerblue;\n",
              "\n",
              "  /* Specific color for light theme */\n",
              "  --sklearn-color-text-on-default-background: var(--sg-text-color, var(--theme-code-foreground, var(--jp-content-font-color1, black)));\n",
              "  --sklearn-color-background: var(--sg-background-color, var(--theme-background, var(--jp-layout-color0, white)));\n",
              "  --sklearn-color-border-box: var(--sg-text-color, var(--theme-code-foreground, var(--jp-content-font-color1, black)));\n",
              "  --sklearn-color-icon: #696969;\n",
              "\n",
              "  @media (prefers-color-scheme: dark) {\n",
              "    /* Redefinition of color scheme for dark theme */\n",
              "    --sklearn-color-text-on-default-background: var(--sg-text-color, var(--theme-code-foreground, var(--jp-content-font-color1, white)));\n",
              "    --sklearn-color-background: var(--sg-background-color, var(--theme-background, var(--jp-layout-color0, #111)));\n",
              "    --sklearn-color-border-box: var(--sg-text-color, var(--theme-code-foreground, var(--jp-content-font-color1, white)));\n",
              "    --sklearn-color-icon: #878787;\n",
              "  }\n",
              "}\n",
              "\n",
              "#sk-container-id-1 {\n",
              "  color: var(--sklearn-color-text);\n",
              "}\n",
              "\n",
              "#sk-container-id-1 pre {\n",
              "  padding: 0;\n",
              "}\n",
              "\n",
              "#sk-container-id-1 input.sk-hidden--visually {\n",
              "  border: 0;\n",
              "  clip: rect(1px 1px 1px 1px);\n",
              "  clip: rect(1px, 1px, 1px, 1px);\n",
              "  height: 1px;\n",
              "  margin: -1px;\n",
              "  overflow: hidden;\n",
              "  padding: 0;\n",
              "  position: absolute;\n",
              "  width: 1px;\n",
              "}\n",
              "\n",
              "#sk-container-id-1 div.sk-dashed-wrapped {\n",
              "  border: 1px dashed var(--sklearn-color-line);\n",
              "  margin: 0 0.4em 0.5em 0.4em;\n",
              "  box-sizing: border-box;\n",
              "  padding-bottom: 0.4em;\n",
              "  background-color: var(--sklearn-color-background);\n",
              "}\n",
              "\n",
              "#sk-container-id-1 div.sk-container {\n",
              "  /* jupyter's `normalize.less` sets `[hidden] { display: none; }`\n",
              "     but bootstrap.min.css set `[hidden] { display: none !important; }`\n",
              "     so we also need the `!important` here to be able to override the\n",
              "     default hidden behavior on the sphinx rendered scikit-learn.org.\n",
              "     See: https://github.com/scikit-learn/scikit-learn/issues/21755 */\n",
              "  display: inline-block !important;\n",
              "  position: relative;\n",
              "}\n",
              "\n",
              "#sk-container-id-1 div.sk-text-repr-fallback {\n",
              "  display: none;\n",
              "}\n",
              "\n",
              "div.sk-parallel-item,\n",
              "div.sk-serial,\n",
              "div.sk-item {\n",
              "  /* draw centered vertical line to link estimators */\n",
              "  background-image: linear-gradient(var(--sklearn-color-text-on-default-background), var(--sklearn-color-text-on-default-background));\n",
              "  background-size: 2px 100%;\n",
              "  background-repeat: no-repeat;\n",
              "  background-position: center center;\n",
              "}\n",
              "\n",
              "/* Parallel-specific style estimator block */\n",
              "\n",
              "#sk-container-id-1 div.sk-parallel-item::after {\n",
              "  content: \"\";\n",
              "  width: 100%;\n",
              "  border-bottom: 2px solid var(--sklearn-color-text-on-default-background);\n",
              "  flex-grow: 1;\n",
              "}\n",
              "\n",
              "#sk-container-id-1 div.sk-parallel {\n",
              "  display: flex;\n",
              "  align-items: stretch;\n",
              "  justify-content: center;\n",
              "  background-color: var(--sklearn-color-background);\n",
              "  position: relative;\n",
              "}\n",
              "\n",
              "#sk-container-id-1 div.sk-parallel-item {\n",
              "  display: flex;\n",
              "  flex-direction: column;\n",
              "}\n",
              "\n",
              "#sk-container-id-1 div.sk-parallel-item:first-child::after {\n",
              "  align-self: flex-end;\n",
              "  width: 50%;\n",
              "}\n",
              "\n",
              "#sk-container-id-1 div.sk-parallel-item:last-child::after {\n",
              "  align-self: flex-start;\n",
              "  width: 50%;\n",
              "}\n",
              "\n",
              "#sk-container-id-1 div.sk-parallel-item:only-child::after {\n",
              "  width: 0;\n",
              "}\n",
              "\n",
              "/* Serial-specific style estimator block */\n",
              "\n",
              "#sk-container-id-1 div.sk-serial {\n",
              "  display: flex;\n",
              "  flex-direction: column;\n",
              "  align-items: center;\n",
              "  background-color: var(--sklearn-color-background);\n",
              "  padding-right: 1em;\n",
              "  padding-left: 1em;\n",
              "}\n",
              "\n",
              "\n",
              "/* Toggleable style: style used for estimator/Pipeline/ColumnTransformer box that is\n",
              "clickable and can be expanded/collapsed.\n",
              "- Pipeline and ColumnTransformer use this feature and define the default style\n",
              "- Estimators will overwrite some part of the style using the `sk-estimator` class\n",
              "*/\n",
              "\n",
              "/* Pipeline and ColumnTransformer style (default) */\n",
              "\n",
              "#sk-container-id-1 div.sk-toggleable {\n",
              "  /* Default theme specific background. It is overwritten whether we have a\n",
              "  specific estimator or a Pipeline/ColumnTransformer */\n",
              "  background-color: var(--sklearn-color-background);\n",
              "}\n",
              "\n",
              "/* Toggleable label */\n",
              "#sk-container-id-1 label.sk-toggleable__label {\n",
              "  cursor: pointer;\n",
              "  display: flex;\n",
              "  width: 100%;\n",
              "  margin-bottom: 0;\n",
              "  padding: 0.5em;\n",
              "  box-sizing: border-box;\n",
              "  text-align: center;\n",
              "  align-items: start;\n",
              "  justify-content: space-between;\n",
              "  gap: 0.5em;\n",
              "}\n",
              "\n",
              "#sk-container-id-1 label.sk-toggleable__label .caption {\n",
              "  font-size: 0.6rem;\n",
              "  font-weight: lighter;\n",
              "  color: var(--sklearn-color-text-muted);\n",
              "}\n",
              "\n",
              "#sk-container-id-1 label.sk-toggleable__label-arrow:before {\n",
              "  /* Arrow on the left of the label */\n",
              "  content: \"▸\";\n",
              "  float: left;\n",
              "  margin-right: 0.25em;\n",
              "  color: var(--sklearn-color-icon);\n",
              "}\n",
              "\n",
              "#sk-container-id-1 label.sk-toggleable__label-arrow:hover:before {\n",
              "  color: var(--sklearn-color-text);\n",
              "}\n",
              "\n",
              "/* Toggleable content - dropdown */\n",
              "\n",
              "#sk-container-id-1 div.sk-toggleable__content {\n",
              "  max-height: 0;\n",
              "  max-width: 0;\n",
              "  overflow: hidden;\n",
              "  text-align: left;\n",
              "  /* unfitted */\n",
              "  background-color: var(--sklearn-color-unfitted-level-0);\n",
              "}\n",
              "\n",
              "#sk-container-id-1 div.sk-toggleable__content.fitted {\n",
              "  /* fitted */\n",
              "  background-color: var(--sklearn-color-fitted-level-0);\n",
              "}\n",
              "\n",
              "#sk-container-id-1 div.sk-toggleable__content pre {\n",
              "  margin: 0.2em;\n",
              "  border-radius: 0.25em;\n",
              "  color: var(--sklearn-color-text);\n",
              "  /* unfitted */\n",
              "  background-color: var(--sklearn-color-unfitted-level-0);\n",
              "}\n",
              "\n",
              "#sk-container-id-1 div.sk-toggleable__content.fitted pre {\n",
              "  /* unfitted */\n",
              "  background-color: var(--sklearn-color-fitted-level-0);\n",
              "}\n",
              "\n",
              "#sk-container-id-1 input.sk-toggleable__control:checked~div.sk-toggleable__content {\n",
              "  /* Expand drop-down */\n",
              "  max-height: 200px;\n",
              "  max-width: 100%;\n",
              "  overflow: auto;\n",
              "}\n",
              "\n",
              "#sk-container-id-1 input.sk-toggleable__control:checked~label.sk-toggleable__label-arrow:before {\n",
              "  content: \"▾\";\n",
              "}\n",
              "\n",
              "/* Pipeline/ColumnTransformer-specific style */\n",
              "\n",
              "#sk-container-id-1 div.sk-label input.sk-toggleable__control:checked~label.sk-toggleable__label {\n",
              "  color: var(--sklearn-color-text);\n",
              "  background-color: var(--sklearn-color-unfitted-level-2);\n",
              "}\n",
              "\n",
              "#sk-container-id-1 div.sk-label.fitted input.sk-toggleable__control:checked~label.sk-toggleable__label {\n",
              "  background-color: var(--sklearn-color-fitted-level-2);\n",
              "}\n",
              "\n",
              "/* Estimator-specific style */\n",
              "\n",
              "/* Colorize estimator box */\n",
              "#sk-container-id-1 div.sk-estimator input.sk-toggleable__control:checked~label.sk-toggleable__label {\n",
              "  /* unfitted */\n",
              "  background-color: var(--sklearn-color-unfitted-level-2);\n",
              "}\n",
              "\n",
              "#sk-container-id-1 div.sk-estimator.fitted input.sk-toggleable__control:checked~label.sk-toggleable__label {\n",
              "  /* fitted */\n",
              "  background-color: var(--sklearn-color-fitted-level-2);\n",
              "}\n",
              "\n",
              "#sk-container-id-1 div.sk-label label.sk-toggleable__label,\n",
              "#sk-container-id-1 div.sk-label label {\n",
              "  /* The background is the default theme color */\n",
              "  color: var(--sklearn-color-text-on-default-background);\n",
              "}\n",
              "\n",
              "/* On hover, darken the color of the background */\n",
              "#sk-container-id-1 div.sk-label:hover label.sk-toggleable__label {\n",
              "  color: var(--sklearn-color-text);\n",
              "  background-color: var(--sklearn-color-unfitted-level-2);\n",
              "}\n",
              "\n",
              "/* Label box, darken color on hover, fitted */\n",
              "#sk-container-id-1 div.sk-label.fitted:hover label.sk-toggleable__label.fitted {\n",
              "  color: var(--sklearn-color-text);\n",
              "  background-color: var(--sklearn-color-fitted-level-2);\n",
              "}\n",
              "\n",
              "/* Estimator label */\n",
              "\n",
              "#sk-container-id-1 div.sk-label label {\n",
              "  font-family: monospace;\n",
              "  font-weight: bold;\n",
              "  display: inline-block;\n",
              "  line-height: 1.2em;\n",
              "}\n",
              "\n",
              "#sk-container-id-1 div.sk-label-container {\n",
              "  text-align: center;\n",
              "}\n",
              "\n",
              "/* Estimator-specific */\n",
              "#sk-container-id-1 div.sk-estimator {\n",
              "  font-family: monospace;\n",
              "  border: 1px dotted var(--sklearn-color-border-box);\n",
              "  border-radius: 0.25em;\n",
              "  box-sizing: border-box;\n",
              "  margin-bottom: 0.5em;\n",
              "  /* unfitted */\n",
              "  background-color: var(--sklearn-color-unfitted-level-0);\n",
              "}\n",
              "\n",
              "#sk-container-id-1 div.sk-estimator.fitted {\n",
              "  /* fitted */\n",
              "  background-color: var(--sklearn-color-fitted-level-0);\n",
              "}\n",
              "\n",
              "/* on hover */\n",
              "#sk-container-id-1 div.sk-estimator:hover {\n",
              "  /* unfitted */\n",
              "  background-color: var(--sklearn-color-unfitted-level-2);\n",
              "}\n",
              "\n",
              "#sk-container-id-1 div.sk-estimator.fitted:hover {\n",
              "  /* fitted */\n",
              "  background-color: var(--sklearn-color-fitted-level-2);\n",
              "}\n",
              "\n",
              "/* Specification for estimator info (e.g. \"i\" and \"?\") */\n",
              "\n",
              "/* Common style for \"i\" and \"?\" */\n",
              "\n",
              ".sk-estimator-doc-link,\n",
              "a:link.sk-estimator-doc-link,\n",
              "a:visited.sk-estimator-doc-link {\n",
              "  float: right;\n",
              "  font-size: smaller;\n",
              "  line-height: 1em;\n",
              "  font-family: monospace;\n",
              "  background-color: var(--sklearn-color-background);\n",
              "  border-radius: 1em;\n",
              "  height: 1em;\n",
              "  width: 1em;\n",
              "  text-decoration: none !important;\n",
              "  margin-left: 0.5em;\n",
              "  text-align: center;\n",
              "  /* unfitted */\n",
              "  border: var(--sklearn-color-unfitted-level-1) 1pt solid;\n",
              "  color: var(--sklearn-color-unfitted-level-1);\n",
              "}\n",
              "\n",
              ".sk-estimator-doc-link.fitted,\n",
              "a:link.sk-estimator-doc-link.fitted,\n",
              "a:visited.sk-estimator-doc-link.fitted {\n",
              "  /* fitted */\n",
              "  border: var(--sklearn-color-fitted-level-1) 1pt solid;\n",
              "  color: var(--sklearn-color-fitted-level-1);\n",
              "}\n",
              "\n",
              "/* On hover */\n",
              "div.sk-estimator:hover .sk-estimator-doc-link:hover,\n",
              ".sk-estimator-doc-link:hover,\n",
              "div.sk-label-container:hover .sk-estimator-doc-link:hover,\n",
              ".sk-estimator-doc-link:hover {\n",
              "  /* unfitted */\n",
              "  background-color: var(--sklearn-color-unfitted-level-3);\n",
              "  color: var(--sklearn-color-background);\n",
              "  text-decoration: none;\n",
              "}\n",
              "\n",
              "div.sk-estimator.fitted:hover .sk-estimator-doc-link.fitted:hover,\n",
              ".sk-estimator-doc-link.fitted:hover,\n",
              "div.sk-label-container:hover .sk-estimator-doc-link.fitted:hover,\n",
              ".sk-estimator-doc-link.fitted:hover {\n",
              "  /* fitted */\n",
              "  background-color: var(--sklearn-color-fitted-level-3);\n",
              "  color: var(--sklearn-color-background);\n",
              "  text-decoration: none;\n",
              "}\n",
              "\n",
              "/* Span, style for the box shown on hovering the info icon */\n",
              ".sk-estimator-doc-link span {\n",
              "  display: none;\n",
              "  z-index: 9999;\n",
              "  position: relative;\n",
              "  font-weight: normal;\n",
              "  right: .2ex;\n",
              "  padding: .5ex;\n",
              "  margin: .5ex;\n",
              "  width: min-content;\n",
              "  min-width: 20ex;\n",
              "  max-width: 50ex;\n",
              "  color: var(--sklearn-color-text);\n",
              "  box-shadow: 2pt 2pt 4pt #999;\n",
              "  /* unfitted */\n",
              "  background: var(--sklearn-color-unfitted-level-0);\n",
              "  border: .5pt solid var(--sklearn-color-unfitted-level-3);\n",
              "}\n",
              "\n",
              ".sk-estimator-doc-link.fitted span {\n",
              "  /* fitted */\n",
              "  background: var(--sklearn-color-fitted-level-0);\n",
              "  border: var(--sklearn-color-fitted-level-3);\n",
              "}\n",
              "\n",
              ".sk-estimator-doc-link:hover span {\n",
              "  display: block;\n",
              "}\n",
              "\n",
              "/* \"?\"-specific style due to the `<a>` HTML tag */\n",
              "\n",
              "#sk-container-id-1 a.estimator_doc_link {\n",
              "  float: right;\n",
              "  font-size: 1rem;\n",
              "  line-height: 1em;\n",
              "  font-family: monospace;\n",
              "  background-color: var(--sklearn-color-background);\n",
              "  border-radius: 1rem;\n",
              "  height: 1rem;\n",
              "  width: 1rem;\n",
              "  text-decoration: none;\n",
              "  /* unfitted */\n",
              "  color: var(--sklearn-color-unfitted-level-1);\n",
              "  border: var(--sklearn-color-unfitted-level-1) 1pt solid;\n",
              "}\n",
              "\n",
              "#sk-container-id-1 a.estimator_doc_link.fitted {\n",
              "  /* fitted */\n",
              "  border: var(--sklearn-color-fitted-level-1) 1pt solid;\n",
              "  color: var(--sklearn-color-fitted-level-1);\n",
              "}\n",
              "\n",
              "/* On hover */\n",
              "#sk-container-id-1 a.estimator_doc_link:hover {\n",
              "  /* unfitted */\n",
              "  background-color: var(--sklearn-color-unfitted-level-3);\n",
              "  color: var(--sklearn-color-background);\n",
              "  text-decoration: none;\n",
              "}\n",
              "\n",
              "#sk-container-id-1 a.estimator_doc_link.fitted:hover {\n",
              "  /* fitted */\n",
              "  background-color: var(--sklearn-color-fitted-level-3);\n",
              "}\n",
              "</style><div id=\"sk-container-id-1\" class=\"sk-top-container\"><div class=\"sk-text-repr-fallback\"><pre>RandomForestClassifier(class_weight=&#x27;balanced&#x27;, n_estimators=500,\n",
              "                       random_state=42, verbose=2)</pre><b>In a Jupyter environment, please rerun this cell to show the HTML representation or trust the notebook. <br />On GitHub, the HTML representation is unable to render, please try loading this page with nbviewer.org.</b></div><div class=\"sk-container\" hidden><div class=\"sk-item\"><div class=\"sk-estimator fitted sk-toggleable\"><input class=\"sk-toggleable__control sk-hidden--visually\" id=\"sk-estimator-id-1\" type=\"checkbox\" checked><label for=\"sk-estimator-id-1\" class=\"sk-toggleable__label fitted sk-toggleable__label-arrow\"><div><div>RandomForestClassifier</div></div><div><a class=\"sk-estimator-doc-link fitted\" rel=\"noreferrer\" target=\"_blank\" href=\"https://scikit-learn.org/1.6/modules/generated/sklearn.ensemble.RandomForestClassifier.html\">?<span>Documentation for RandomForestClassifier</span></a><span class=\"sk-estimator-doc-link fitted\">i<span>Fitted</span></span></div></label><div class=\"sk-toggleable__content fitted\"><pre>RandomForestClassifier(class_weight=&#x27;balanced&#x27;, n_estimators=500,\n",
              "                       random_state=42, verbose=2)</pre></div> </div></div></div></div>"
            ]
          },
          "metadata": {},
          "execution_count": 7
        }
      ]
    },
    {
      "cell_type": "markdown",
      "source": [
        "# Evaluación del modelo"
      ],
      "metadata": {
        "id": "13CJIHhAlSFd"
      }
    },
    {
      "cell_type": "code",
      "source": [
        "y_pred = model_rf.predict(X_test)"
      ],
      "metadata": {
        "colab": {
          "base_uri": "https://localhost:8080/"
        },
        "id": "ZUN_pLejlT_P",
        "outputId": "a90ca866-c000-4b39-8ff9-35bbccd7d242"
      },
      "execution_count": null,
      "outputs": [
        {
          "output_type": "stream",
          "name": "stderr",
          "text": [
            "[Parallel(n_jobs=1)]: Done  40 tasks      | elapsed:    0.4s\n",
            "[Parallel(n_jobs=1)]: Done 161 tasks      | elapsed:    1.3s\n",
            "[Parallel(n_jobs=1)]: Done 364 tasks      | elapsed:    2.1s\n",
            "[Parallel(n_jobs=1)]: Done 500 out of 500 | elapsed:    2.6s finished\n"
          ]
        }
      ]
    },
    {
      "cell_type": "markdown",
      "source": [
        "# Matriz de confusión"
      ],
      "metadata": {
        "id": "lRBqtaO-lXqP"
      }
    },
    {
      "cell_type": "code",
      "source": [
        "cm = confusion_matrix(y_test, y_pred)\n",
        "plt.figure(figsize=(6, 5))\n",
        "sns.heatmap(cm, annot=True, fmt='d', cmap='Blues')\n",
        "plt.xlabel('Predicción')\n",
        "plt.ylabel('Valor Real')\n",
        "plt.title('Matriz de Confusión')\n",
        "plt.tight_layout()\n",
        "plt.show()"
      ],
      "metadata": {
        "colab": {
          "base_uri": "https://localhost:8080/",
          "height": 507
        },
        "id": "X6qvH7TdlZZw",
        "outputId": "adeacdd0-b110-47ce-b750-3912b1bd5178"
      },
      "execution_count": null,
      "outputs": [
        {
          "output_type": "display_data",
          "data": {
            "text/plain": [
              "<Figure size 600x500 with 2 Axes>"
            ],
            "image/png": "[encoded data removed]"
          },
          "metadata": {}
        }
      ]
    },
    {
      "cell_type": "markdown",
      "source": [
        "# Reporte de clasificación"
      ],
      "metadata": {
        "id": "xVmNrvrvlcCr"
      }
    },
    {
      "cell_type": "code",
      "source": [
        "print(\"\\nReporte de Clasificación:\")\n",
        "print(classification_report(y_test, y_pred))"
      ],
      "metadata": {
        "colab": {
          "base_uri": "https://localhost:8080/"
        },
        "id": "ZNQvPrZkleDL",
        "outputId": "50d57bad-8651-429c-8986-b14285508e4d"
      },
      "execution_count": null,
      "outputs": [
        {
          "output_type": "stream",
          "name": "stdout",
          "text": [
            "\n",
            "Reporte de Clasificación:\n",
            "              precision    recall  f1-score   support\n",
            "\n",
            "       False       0.77      0.67      0.72     14216\n",
            "        True       0.59      0.71      0.64      9532\n",
            "\n",
            "    accuracy                           0.68     23748\n",
            "   macro avg       0.68      0.69      0.68     23748\n",
            "weighted avg       0.70      0.68      0.69     23748\n",
            "\n"
          ]
        }
      ]
    },
    {
      "cell_type": "markdown",
      "source": [
        "# ROC AUC"
      ],
      "metadata": {
        "id": "XAvUKc_PlhNz"
      }
    },
    {
      "cell_type": "code",
      "source": [
        "roc = roc_auc_score(y_test, y_pred)\n",
        "print(f\"\\nROC AUC: {roc:.2f}\")\n"
      ],
      "metadata": {
        "colab": {
          "base_uri": "https://localhost:8080/"
        },
        "id": "LpMqPQMNljH7",
        "outputId": "d427e9df-3eba-4aa1-8083-f8069a79e2b7"
      },
      "execution_count": null,
      "outputs": [
        {
          "output_type": "stream",
          "name": "stdout",
          "text": [
            "\n",
            "ROC AUC: 0.69\n"
          ]
        }
      ]
    },
    {
      "cell_type": "markdown",
      "source": [
        " # Interpretación de los Resultados\n",
        "✅ Precisión\n",
        "False (0.77): Cuando el modelo predice que un jugador no sobrevivirá, acierta el 77% de las veces.\n",
        "\n",
        "True (0.59): Cuando predice que un jugador sí sobrevivirá, acierta solo el 59%.\n",
        "\n",
        "✅ Recall\n",
        "False (0.67): El modelo detecta correctamente el 67% de los jugadores que efectivamente no sobrevivieron.\n",
        "\n",
        "True (0.71): Buen recall para sobrevivientes → el modelo identifica bien a los jugadores que sobreviven.\n",
        "\n",
        "✅ F1-Score\n",
        "False (0.72) vs True (0.64) → El modelo es mejor prediciendo a quienes no sobreviven que a quienes sí lo hacen."
      ],
      "metadata": {
        "id": "o23zPPuYm3eh"
      }
    },
    {
      "cell_type": "markdown",
      "source": [
        "# Agregemos una variable más\n"
      ],
      "metadata": {
        "id": "sCca_Iyrn0wA"
      }
    },
    {
      "cell_type": "markdown",
      "source": [
        "# Definición de variables para Clasificación"
      ],
      "metadata": {
        "id": "_OQ21GeRoPAg"
      }
    },
    {
      "cell_type": "code",
      "source": [
        "# Variable objetivo\n",
        "y = data['Survived']\n",
        "\n",
        "# Variables predictoras\n",
        "X = data[['RoundStartingEquipmentValue', 'RoundWinner', 'Map', 'Team']]"
      ],
      "metadata": {
        "id": "2LiBu-jBoM06"
      },
      "execution_count": null,
      "outputs": []
    },
    {
      "cell_type": "markdown",
      "source": [
        "# Preprocesamiento: Codificar variables categóricas"
      ],
      "metadata": {
        "id": "BTe4xYS9oRFM"
      }
    },
    {
      "cell_type": "code",
      "source": [
        "# Convertimos variables categóricas a variables numéricas\n",
        "X_encoded = pd.get_dummies(X, drop_first=True)"
      ],
      "metadata": {
        "id": "XAVCLa2GoScz"
      },
      "execution_count": null,
      "outputs": []
    },
    {
      "cell_type": "markdown",
      "source": [
        "# División del conjunto de datos"
      ],
      "metadata": {
        "id": "IQwDQntxoVGs"
      }
    },
    {
      "cell_type": "code",
      "source": [
        "X_train, X_test, y_train, y_test = train_test_split(\n",
        "    X_encoded, y, test_size=0.3, random_state=42)\n",
        "\n",
        "print(f\"Entrenamiento: {X_train.shape}\")\n",
        "print(f\"Prueba: {X_test.shape}\")"
      ],
      "metadata": {
        "colab": {
          "base_uri": "https://localhost:8080/"
        },
        "id": "bme67atToX_5",
        "outputId": "cb9763fb-161a-4b71-b7ff-d89c42e0ec7a"
      },
      "execution_count": null,
      "outputs": [
        {
          "output_type": "stream",
          "name": "stdout",
          "text": [
            "Entrenamiento: (55409, 7)\n",
            "Prueba: (23748, 7)\n"
          ]
        }
      ]
    },
    {
      "cell_type": "markdown",
      "source": [
        "# Entrenamiento del modelo Random Forest (500 árboles)"
      ],
      "metadata": {
        "id": "bI1IAy62oYx6"
      }
    },
    {
      "cell_type": "code",
      "source": [
        "model = RandomForestClassifier(\n",
        "    n_estimators=500,\n",
        "    max_features='sqrt',\n",
        "    max_depth=10,\n",
        "    class_weight='balanced',\n",
        "    random_state=42,\n",
        "    verbose=1\n",
        ")\n",
        "\n",
        "model.fit(X_train, y_train)\n"
      ],
      "metadata": {
        "colab": {
          "base_uri": "https://localhost:8080/",
          "height": 167
        },
        "id": "e-kasGmsoauJ",
        "outputId": "f2870d9d-147c-4f73-c5d9-3b1d9f1cc24f"
      },
      "execution_count": null,
      "outputs": [
        {
          "output_type": "stream",
          "name": "stderr",
          "text": [
            "[Parallel(n_jobs=1)]: Done  49 tasks      | elapsed:    1.5s\n",
            "[Parallel(n_jobs=1)]: Done 199 tasks      | elapsed:    4.6s\n",
            "[Parallel(n_jobs=1)]: Done 449 tasks      | elapsed:   14.3s\n",
            "[Parallel(n_jobs=1)]: Done 500 out of 500 | elapsed:   15.6s finished\n"
          ]
        },
        {
          "output_type": "execute_result",
          "data": {
            "text/plain": [
              "RandomForestClassifier(class_weight='balanced', max_depth=10, n_estimators=500,\n",
              "                       random_state=42, verbose=1)"
            ],
            "text/html": [
              "<style>#sk-container-id-2 {\n",
              "  /* Definition of color scheme common for light and dark mode */\n",
              "  --sklearn-color-text: #000;\n",
              "  --sklearn-color-text-muted: #666;\n",
              "  --sklearn-color-line: gray;\n",
              "  /* Definition of color scheme for unfitted estimators */\n",
              "  --sklearn-color-unfitted-level-0: #fff5e6;\n",
              "  --sklearn-color-unfitted-level-1: #f6e4d2;\n",
              "  --sklearn-color-unfitted-level-2: #ffe0b3;\n",
              "  --sklearn-color-unfitted-level-3: chocolate;\n",
              "  /* Definition of color scheme for fitted estimators */\n",
              "  --sklearn-color-fitted-level-0: #f0f8ff;\n",
              "  --sklearn-color-fitted-level-1: #d4ebff;\n",
              "  --sklearn-color-fitted-level-2: #b3dbfd;\n",
              "  --sklearn-color-fitted-level-3: cornflowerblue;\n",
              "\n",
              "  /* Specific color for light theme */\n",
              "  --sklearn-color-text-on-default-background: var(--sg-text-color, var(--theme-code-foreground, var(--jp-content-font-color1, black)));\n",
              "  --sklearn-color-background: var(--sg-background-color, var(--theme-background, var(--jp-layout-color0, white)));\n",
              "  --sklearn-color-border-box: var(--sg-text-color, var(--theme-code-foreground, var(--jp-content-font-color1, black)));\n",
              "  --sklearn-color-icon: #696969;\n",
              "\n",
              "  @media (prefers-color-scheme: dark) {\n",
              "    /* Redefinition of color scheme for dark theme */\n",
              "    --sklearn-color-text-on-default-background: var(--sg-text-color, var(--theme-code-foreground, var(--jp-content-font-color1, white)));\n",
              "    --sklearn-color-background: var(--sg-background-color, var(--theme-background, var(--jp-layout-color0, #111)));\n",
              "    --sklearn-color-border-box: var(--sg-text-color, var(--theme-code-foreground, var(--jp-content-font-color1, white)));\n",
              "    --sklearn-color-icon: #878787;\n",
              "  }\n",
              "}\n",
              "\n",
              "#sk-container-id-2 {\n",
              "  color: var(--sklearn-color-text);\n",
              "}\n",
              "\n",
              "#sk-container-id-2 pre {\n",
              "  padding: 0;\n",
              "}\n",
              "\n",
              "#sk-container-id-2 input.sk-hidden--visually {\n",
              "  border: 0;\n",
              "  clip: rect(1px 1px 1px 1px);\n",
              "  clip: rect(1px, 1px, 1px, 1px);\n",
              "  height: 1px;\n",
              "  margin: -1px;\n",
              "  overflow: hidden;\n",
              "  padding: 0;\n",
              "  position: absolute;\n",
              "  width: 1px;\n",
              "}\n",
              "\n",
              "#sk-container-id-2 div.sk-dashed-wrapped {\n",
              "  border: 1px dashed var(--sklearn-color-line);\n",
              "  margin: 0 0.4em 0.5em 0.4em;\n",
              "  box-sizing: border-box;\n",
              "  padding-bottom: 0.4em;\n",
              "  background-color: var(--sklearn-color-background);\n",
              "}\n",
              "\n",
              "#sk-container-id-2 div.sk-container {\n",
              "  /* jupyter's `normalize.less` sets `[hidden] { display: none; }`\n",
              "     but bootstrap.min.css set `[hidden] { display: none !important; }`\n",
              "     so we also need the `!important` here to be able to override the\n",
              "     default hidden behavior on the sphinx rendered scikit-learn.org.\n",
              "     See: https://github.com/scikit-learn/scikit-learn/issues/21755 */\n",
              "  display: inline-block !important;\n",
              "  position: relative;\n",
              "}\n",
              "\n",
              "#sk-container-id-2 div.sk-text-repr-fallback {\n",
              "  display: none;\n",
              "}\n",
              "\n",
              "div.sk-parallel-item,\n",
              "div.sk-serial,\n",
              "div.sk-item {\n",
              "  /* draw centered vertical line to link estimators */\n",
              "  background-image: linear-gradient(var(--sklearn-color-text-on-default-background), var(--sklearn-color-text-on-default-background));\n",
              "  background-size: 2px 100%;\n",
              "  background-repeat: no-repeat;\n",
              "  background-position: center center;\n",
              "}\n",
              "\n",
              "/* Parallel-specific style estimator block */\n",
              "\n",
              "#sk-container-id-2 div.sk-parallel-item::after {\n",
              "  content: \"\";\n",
              "  width: 100%;\n",
              "  border-bottom: 2px solid var(--sklearn-color-text-on-default-background);\n",
              "  flex-grow: 1;\n",
              "}\n",
              "\n",
              "#sk-container-id-2 div.sk-parallel {\n",
              "  display: flex;\n",
              "  align-items: stretch;\n",
              "  justify-content: center;\n",
              "  background-color: var(--sklearn-color-background);\n",
              "  position: relative;\n",
              "}\n",
              "\n",
              "#sk-container-id-2 div.sk-parallel-item {\n",
              "  display: flex;\n",
              "  flex-direction: column;\n",
              "}\n",
              "\n",
              "#sk-container-id-2 div.sk-parallel-item:first-child::after {\n",
              "  align-self: flex-end;\n",
              "  width: 50%;\n",
              "}\n",
              "\n",
              "#sk-container-id-2 div.sk-parallel-item:last-child::after {\n",
              "  align-self: flex-start;\n",
              "  width: 50%;\n",
              "}\n",
              "\n",
              "#sk-container-id-2 div.sk-parallel-item:only-child::after {\n",
              "  width: 0;\n",
              "}\n",
              "\n",
              "/* Serial-specific style estimator block */\n",
              "\n",
              "#sk-container-id-2 div.sk-serial {\n",
              "  display: flex;\n",
              "  flex-direction: column;\n",
              "  align-items: center;\n",
              "  background-color: var(--sklearn-color-background);\n",
              "  padding-right: 1em;\n",
              "  padding-left: 1em;\n",
              "}\n",
              "\n",
              "\n",
              "/* Toggleable style: style used for estimator/Pipeline/ColumnTransformer box that is\n",
              "clickable and can be expanded/collapsed.\n",
              "- Pipeline and ColumnTransformer use this feature and define the default style\n",
              "- Estimators will overwrite some part of the style using the `sk-estimator` class\n",
              "*/\n",
              "\n",
              "/* Pipeline and ColumnTransformer style (default) */\n",
              "\n",
              "#sk-container-id-2 div.sk-toggleable {\n",
              "  /* Default theme specific background. It is overwritten whether we have a\n",
              "  specific estimator or a Pipeline/ColumnTransformer */\n",
              "  background-color: var(--sklearn-color-background);\n",
              "}\n",
              "\n",
              "/* Toggleable label */\n",
              "#sk-container-id-2 label.sk-toggleable__label {\n",
              "  cursor: pointer;\n",
              "  display: flex;\n",
              "  width: 100%;\n",
              "  margin-bottom: 0;\n",
              "  padding: 0.5em;\n",
              "  box-sizing: border-box;\n",
              "  text-align: center;\n",
              "  align-items: start;\n",
              "  justify-content: space-between;\n",
              "  gap: 0.5em;\n",
              "}\n",
              "\n",
              "#sk-container-id-2 label.sk-toggleable__label .caption {\n",
              "  font-size: 0.6rem;\n",
              "  font-weight: lighter;\n",
              "  color: var(--sklearn-color-text-muted);\n",
              "}\n",
              "\n",
              "#sk-container-id-2 label.sk-toggleable__label-arrow:before {\n",
              "  /* Arrow on the left of the label */\n",
              "  content: \"▸\";\n",
              "  float: left;\n",
              "  margin-right: 0.25em;\n",
              "  color: var(--sklearn-color-icon);\n",
              "}\n",
              "\n",
              "#sk-container-id-2 label.sk-toggleable__label-arrow:hover:before {\n",
              "  color: var(--sklearn-color-text);\n",
              "}\n",
              "\n",
              "/* Toggleable content - dropdown */\n",
              "\n",
              "#sk-container-id-2 div.sk-toggleable__content {\n",
              "  max-height: 0;\n",
              "  max-width: 0;\n",
              "  overflow: hidden;\n",
              "  text-align: left;\n",
              "  /* unfitted */\n",
              "  background-color: var(--sklearn-color-unfitted-level-0);\n",
              "}\n",
              "\n",
              "#sk-container-id-2 div.sk-toggleable__content.fitted {\n",
              "  /* fitted */\n",
              "  background-color: var(--sklearn-color-fitted-level-0);\n",
              "}\n",
              "\n",
              "#sk-container-id-2 div.sk-toggleable__content pre {\n",
              "  margin: 0.2em;\n",
              "  border-radius: 0.25em;\n",
              "  color: var(--sklearn-color-text);\n",
              "  /* unfitted */\n",
              "  background-color: var(--sklearn-color-unfitted-level-0);\n",
              "}\n",
              "\n",
              "#sk-container-id-2 div.sk-toggleable__content.fitted pre {\n",
              "  /* unfitted */\n",
              "  background-color: var(--sklearn-color-fitted-level-0);\n",
              "}\n",
              "\n",
              "#sk-container-id-2 input.sk-toggleable__control:checked~div.sk-toggleable__content {\n",
              "  /* Expand drop-down */\n",
              "  max-height: 200px;\n",
              "  max-width: 100%;\n",
              "  overflow: auto;\n",
              "}\n",
              "\n",
              "#sk-container-id-2 input.sk-toggleable__control:checked~label.sk-toggleable__label-arrow:before {\n",
              "  content: \"▾\";\n",
              "}\n",
              "\n",
              "/* Pipeline/ColumnTransformer-specific style */\n",
              "\n",
              "#sk-container-id-2 div.sk-label input.sk-toggleable__control:checked~label.sk-toggleable__label {\n",
              "  color: var(--sklearn-color-text);\n",
              "  background-color: var(--sklearn-color-unfitted-level-2);\n",
              "}\n",
              "\n",
              "#sk-container-id-2 div.sk-label.fitted input.sk-toggleable__control:checked~label.sk-toggleable__label {\n",
              "  background-color: var(--sklearn-color-fitted-level-2);\n",
              "}\n",
              "\n",
              "/* Estimator-specific style */\n",
              "\n",
              "/* Colorize estimator box */\n",
              "#sk-container-id-2 div.sk-estimator input.sk-toggleable__control:checked~label.sk-toggleable__label {\n",
              "  /* unfitted */\n",
              "  background-color: var(--sklearn-color-unfitted-level-2);\n",
              "}\n",
              "\n",
              "#sk-container-id-2 div.sk-estimator.fitted input.sk-toggleable__control:checked~label.sk-toggleable__label {\n",
              "  /* fitted */\n",
              "  background-color: var(--sklearn-color-fitted-level-2);\n",
              "}\n",
              "\n",
              "#sk-container-id-2 div.sk-label label.sk-toggleable__label,\n",
              "#sk-container-id-2 div.sk-label label {\n",
              "  /* The background is the default theme color */\n",
              "  color: var(--sklearn-color-text-on-default-background);\n",
              "}\n",
              "\n",
              "/* On hover, darken the color of the background */\n",
              "#sk-container-id-2 div.sk-label:hover label.sk-toggleable__label {\n",
              "  color: var(--sklearn-color-text);\n",
              "  background-color: var(--sklearn-color-unfitted-level-2);\n",
              "}\n",
              "\n",
              "/* Label box, darken color on hover, fitted */\n",
              "#sk-container-id-2 div.sk-label.fitted:hover label.sk-toggleable__label.fitted {\n",
              "  color: var(--sklearn-color-text);\n",
              "  background-color: var(--sklearn-color-fitted-level-2);\n",
              "}\n",
              "\n",
              "/* Estimator label */\n",
              "\n",
              "#sk-container-id-2 div.sk-label label {\n",
              "  font-family: monospace;\n",
              "  font-weight: bold;\n",
              "  display: inline-block;\n",
              "  line-height: 1.2em;\n",
              "}\n",
              "\n",
              "#sk-container-id-2 div.sk-label-container {\n",
              "  text-align: center;\n",
              "}\n",
              "\n",
              "/* Estimator-specific */\n",
              "#sk-container-id-2 div.sk-estimator {\n",
              "  font-family: monospace;\n",
              "  border: 1px dotted var(--sklearn-color-border-box);\n",
              "  border-radius: 0.25em;\n",
              "  box-sizing: border-box;\n",
              "  margin-bottom: 0.5em;\n",
              "  /* unfitted */\n",
              "  background-color: var(--sklearn-color-unfitted-level-0);\n",
              "}\n",
              "\n",
              "#sk-container-id-2 div.sk-estimator.fitted {\n",
              "  /* fitted */\n",
              "  background-color: var(--sklearn-color-fitted-level-0);\n",
              "}\n",
              "\n",
              "/* on hover */\n",
              "#sk-container-id-2 div.sk-estimator:hover {\n",
              "  /* unfitted */\n",
              "  background-color: var(--sklearn-color-unfitted-level-2);\n",
              "}\n",
              "\n",
              "#sk-container-id-2 div.sk-estimator.fitted:hover {\n",
              "  /* fitted */\n",
              "  background-color: var(--sklearn-color-fitted-level-2);\n",
              "}\n",
              "\n",
              "/* Specification for estimator info (e.g. \"i\" and \"?\") */\n",
              "\n",
              "/* Common style for \"i\" and \"?\" */\n",
              "\n",
              ".sk-estimator-doc-link,\n",
              "a:link.sk-estimator-doc-link,\n",
              "a:visited.sk-estimator-doc-link {\n",
              "  float: right;\n",
              "  font-size: smaller;\n",
              "  line-height: 1em;\n",
              "  font-family: monospace;\n",
              "  background-color: var(--sklearn-color-background);\n",
              "  border-radius: 1em;\n",
              "  height: 1em;\n",
              "  width: 1em;\n",
              "  text-decoration: none !important;\n",
              "  margin-left: 0.5em;\n",
              "  text-align: center;\n",
              "  /* unfitted */\n",
              "  border: var(--sklearn-color-unfitted-level-1) 1pt solid;\n",
              "  color: var(--sklearn-color-unfitted-level-1);\n",
              "}\n",
              "\n",
              ".sk-estimator-doc-link.fitted,\n",
              "a:link.sk-estimator-doc-link.fitted,\n",
              "a:visited.sk-estimator-doc-link.fitted {\n",
              "  /* fitted */\n",
              "  border: var(--sklearn-color-fitted-level-1) 1pt solid;\n",
              "  color: var(--sklearn-color-fitted-level-1);\n",
              "}\n",
              "\n",
              "/* On hover */\n",
              "div.sk-estimator:hover .sk-estimator-doc-link:hover,\n",
              ".sk-estimator-doc-link:hover,\n",
              "div.sk-label-container:hover .sk-estimator-doc-link:hover,\n",
              ".sk-estimator-doc-link:hover {\n",
              "  /* unfitted */\n",
              "  background-color: var(--sklearn-color-unfitted-level-3);\n",
              "  color: var(--sklearn-color-background);\n",
              "  text-decoration: none;\n",
              "}\n",
              "\n",
              "div.sk-estimator.fitted:hover .sk-estimator-doc-link.fitted:hover,\n",
              ".sk-estimator-doc-link.fitted:hover,\n",
              "div.sk-label-container:hover .sk-estimator-doc-link.fitted:hover,\n",
              ".sk-estimator-doc-link.fitted:hover {\n",
              "  /* fitted */\n",
              "  background-color: var(--sklearn-color-fitted-level-3);\n",
              "  color: var(--sklearn-color-background);\n",
              "  text-decoration: none;\n",
              "}\n",
              "\n",
              "/* Span, style for the box shown on hovering the info icon */\n",
              ".sk-estimator-doc-link span {\n",
              "  display: none;\n",
              "  z-index: 9999;\n",
              "  position: relative;\n",
              "  font-weight: normal;\n",
              "  right: .2ex;\n",
              "  padding: .5ex;\n",
              "  margin: .5ex;\n",
              "  width: min-content;\n",
              "  min-width: 20ex;\n",
              "  max-width: 50ex;\n",
              "  color: var(--sklearn-color-text);\n",
              "  box-shadow: 2pt 2pt 4pt #999;\n",
              "  /* unfitted */\n",
              "  background: var(--sklearn-color-unfitted-level-0);\n",
              "  border: .5pt solid var(--sklearn-color-unfitted-level-3);\n",
              "}\n",
              "\n",
              ".sk-estimator-doc-link.fitted span {\n",
              "  /* fitted */\n",
              "  background: var(--sklearn-color-fitted-level-0);\n",
              "  border: var(--sklearn-color-fitted-level-3);\n",
              "}\n",
              "\n",
              ".sk-estimator-doc-link:hover span {\n",
              "  display: block;\n",
              "}\n",
              "\n",
              "/* \"?\"-specific style due to the `<a>` HTML tag */\n",
              "\n",
              "#sk-container-id-2 a.estimator_doc_link {\n",
              "  float: right;\n",
              "  font-size: 1rem;\n",
              "  line-height: 1em;\n",
              "  font-family: monospace;\n",
              "  background-color: var(--sklearn-color-background);\n",
              "  border-radius: 1rem;\n",
              "  height: 1rem;\n",
              "  width: 1rem;\n",
              "  text-decoration: none;\n",
              "  /* unfitted */\n",
              "  color: var(--sklearn-color-unfitted-level-1);\n",
              "  border: var(--sklearn-color-unfitted-level-1) 1pt solid;\n",
              "}\n",
              "\n",
              "#sk-container-id-2 a.estimator_doc_link.fitted {\n",
              "  /* fitted */\n",
              "  border: var(--sklearn-color-fitted-level-1) 1pt solid;\n",
              "  color: var(--sklearn-color-fitted-level-1);\n",
              "}\n",
              "\n",
              "/* On hover */\n",
              "#sk-container-id-2 a.estimator_doc_link:hover {\n",
              "  /* unfitted */\n",
              "  background-color: var(--sklearn-color-unfitted-level-3);\n",
              "  color: var(--sklearn-color-background);\n",
              "  text-decoration: none;\n",
              "}\n",
              "\n",
              "#sk-container-id-2 a.estimator_doc_link.fitted:hover {\n",
              "  /* fitted */\n",
              "  background-color: var(--sklearn-color-fitted-level-3);\n",
              "}\n",
              "</style><div id=\"sk-container-id-2\" class=\"sk-top-container\"><div class=\"sk-text-repr-fallback\"><pre>RandomForestClassifier(class_weight=&#x27;balanced&#x27;, max_depth=10, n_estimators=500,\n",
              "                       random_state=42, verbose=1)</pre><b>In a Jupyter environment, please rerun this cell to show the HTML representation or trust the notebook. <br />On GitHub, the HTML representation is unable to render, please try loading this page with nbviewer.org.</b></div><div class=\"sk-container\" hidden><div class=\"sk-item\"><div class=\"sk-estimator fitted sk-toggleable\"><input class=\"sk-toggleable__control sk-hidden--visually\" id=\"sk-estimator-id-2\" type=\"checkbox\" checked><label for=\"sk-estimator-id-2\" class=\"sk-toggleable__label fitted sk-toggleable__label-arrow\"><div><div>RandomForestClassifier</div></div><div><a class=\"sk-estimator-doc-link fitted\" rel=\"noreferrer\" target=\"_blank\" href=\"https://scikit-learn.org/1.6/modules/generated/sklearn.ensemble.RandomForestClassifier.html\">?<span>Documentation for RandomForestClassifier</span></a><span class=\"sk-estimator-doc-link fitted\">i<span>Fitted</span></span></div></label><div class=\"sk-toggleable__content fitted\"><pre>RandomForestClassifier(class_weight=&#x27;balanced&#x27;, max_depth=10, n_estimators=500,\n",
              "                       random_state=42, verbose=1)</pre></div> </div></div></div></div>"
            ]
          },
          "metadata": {},
          "execution_count": 20
        }
      ]
    },
    {
      "cell_type": "markdown",
      "source": [
        "# Evaluación del modelo"
      ],
      "metadata": {
        "id": "dIfmEVLhoc71"
      }
    },
    {
      "cell_type": "code",
      "source": [
        "pred_y = model.predict(X_test)"
      ],
      "metadata": {
        "colab": {
          "base_uri": "https://localhost:8080/"
        },
        "id": "ybhNfoYVoetE",
        "outputId": "796ee064-2fe0-4657-d466-05edb859fa9b"
      },
      "execution_count": null,
      "outputs": [
        {
          "output_type": "stream",
          "name": "stderr",
          "text": [
            "[Parallel(n_jobs=1)]: Done  49 tasks      | elapsed:    0.2s\n",
            "[Parallel(n_jobs=1)]: Done 199 tasks      | elapsed:    0.8s\n",
            "[Parallel(n_jobs=1)]: Done 449 tasks      | elapsed:    1.6s\n",
            "[Parallel(n_jobs=1)]: Done 500 out of 500 | elapsed:    1.8s finished\n"
          ]
        }
      ]
    },
    {
      "cell_type": "markdown",
      "source": [
        "# Resultados del modelo"
      ],
      "metadata": {
        "id": "XDNV0Wzdog6d"
      }
    },
    {
      "cell_type": "code",
      "source": [
        "# Matriz de Confusión\n",
        "cm = confusion_matrix(y_test, pred_y)\n",
        "sns.heatmap(cm, annot=True, fmt='d', cmap='Blues')\n",
        "plt.xlabel(\"Predicción\")\n",
        "plt.ylabel(\"Real\")\n",
        "plt.title(\"Matriz de Confusión - Clasificación de Supervivencia\")\n",
        "plt.show()\n"
      ],
      "metadata": {
        "colab": {
          "base_uri": "https://localhost:8080/",
          "height": 472
        },
        "id": "yJJGExSloiJP",
        "outputId": "08434edc-678e-4a1f-846a-76a3167b9504"
      },
      "execution_count": null,
      "outputs": [
        {
          "output_type": "display_data",
          "data": {
            "text/plain": [
              "<Figure size 640x480 with 2 Axes>"
            ],
            "image/png": "[encoded data removed]"
          },
          "metadata": {}
        }
      ]
    },
    {
      "cell_type": "markdown",
      "source": [
        "# Reporte de Clasificación"
      ],
      "metadata": {
        "id": "vXKfmngBokkH"
      }
    },
    {
      "cell_type": "code",
      "source": [
        "print(\"Reporte de Clasificación:\")\n",
        "print(classification_report(y_test, pred_y))\n"
      ],
      "metadata": {
        "colab": {
          "base_uri": "https://localhost:8080/"
        },
        "id": "N7DdZC-somQo",
        "outputId": "8b4ca885-690b-41aa-8994-1ed4f4da4dd3"
      },
      "execution_count": null,
      "outputs": [
        {
          "output_type": "stream",
          "name": "stdout",
          "text": [
            "Reporte de Clasificación:\n",
            "              precision    recall  f1-score   support\n",
            "\n",
            "       False       0.78      0.68      0.73     14216\n",
            "        True       0.60      0.72      0.65      9532\n",
            "\n",
            "    accuracy                           0.70     23748\n",
            "   macro avg       0.69      0.70      0.69     23748\n",
            "weighted avg       0.71      0.70      0.70     23748\n",
            "\n"
          ]
        }
      ]
    },
    {
      "cell_type": "markdown",
      "source": [
        "# ROC AUC Score"
      ],
      "metadata": {
        "id": "dk2hDsA5osbU"
      }
    },
    {
      "cell_type": "code",
      "source": [
        "try:\n",
        "    roc = roc_auc_score(y_test, pred_y)\n",
        "    print(f\"ROC AUC Score: {roc:.2f}\")\n",
        "except:\n",
        "    print(\"No se pudo calcular el ROC AUC Score.\")\n"
      ],
      "metadata": {
        "colab": {
          "base_uri": "https://localhost:8080/"
        },
        "id": "yJJsgDJeos7Q",
        "outputId": "e9ec00ad-4719-4661-b3ce-5eac56880e7d"
      },
      "execution_count": null,
      "outputs": [
        {
          "output_type": "stream",
          "name": "stdout",
          "text": [
            "ROC AUC Score: 0.70\n"
          ]
        }
      ]
    },
    {
      "cell_type": "markdown",
      "source": [
        "**1. Exactitud General (Accuracy): 0.70**\n",
        "El modelo predice correctamente en el 70% de los casos.\n",
        "\n",
        "Este valor es aceptable, especialmente considerando que el problema no está perfectamente balanceado (más ejemplos de False que de True).\n",
        "\n",
        "**Interpretación:**\n",
        "\n",
        "Clase False (No sobrevive):\n",
        "\n",
        "Alta precisión: cuando el modelo predice que alguien no sobrevive, suele acertar.\n",
        "\n",
        "Pero menor recall: a veces no detecta correctamente a los que realmente no sobreviven.\n",
        "\n",
        "Clase True (Sobrevive):\n",
        "\n",
        "Menor precisión: hay más falsos positivos (predice que sobrevive, pero no).\n",
        "\n",
        "Buen recall: detecta bien a quienes sí sobreviven.\n",
        "\n"
      ],
      "metadata": {
        "id": "lt1mBeFhpNOk"
      }
    }
  ]
}